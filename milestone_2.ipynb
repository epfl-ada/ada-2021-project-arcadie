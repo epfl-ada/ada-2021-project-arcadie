{
  "nbformat": 4,
  "nbformat_minor": 5,
  "metadata": {
    "kernelspec": {
      "display_name": "Python [conda env:ada] *",
      "language": "python",
      "name": "conda-env-ada-py"
    },
    "language_info": {
      "codemirror_mode": {
        "name": "ipython",
        "version": 3
      },
      "file_extension": ".py",
      "mimetype": "text/x-python",
      "name": "python",
      "nbconvert_exporter": "python",
      "pygments_lexer": "ipython3",
      "version": "3.8.11"
    },
    "colab": {
      "name": "milestone_2.ipynb",
      "provenance": [],
      "collapsed_sections": []
    }
  },
  "cells": [
    {
      "cell_type": "code",
      "metadata": {
        "id": "uzzRpN-SUdWZ",
        "colab": {
          "base_uri": "https://localhost:8080/"
        },
        "outputId": "d49f77d6-7b06-4d53-c887-2137ded322e6"
      },
      "source": [
        "from google.colab import drive\n",
        "drive.mount('/content/drive',force_remount=True)"
      ],
      "id": "uzzRpN-SUdWZ",
      "execution_count": 1,
      "outputs": [
        {
          "output_type": "stream",
          "name": "stdout",
          "text": [
            "Mounted at /content/drive\n"
          ]
        }
      ]
    },
    {
      "cell_type": "markdown",
      "metadata": {
        "id": "pVt2BNbZ_566"
      },
      "source": [
        "# Milestone 2 - Arcadie"
      ],
      "id": "pVt2BNbZ_566"
    },
    {
      "cell_type": "code",
      "metadata": {
        "id": "afddb2eb-7204-4c61-80e4-b4612f8b3f63",
        "colab": {
          "base_uri": "https://localhost:8080/"
        },
        "outputId": "4f1cf940-fe35-4d8f-8e04-aa3419c93eaf"
      },
      "source": [
        "path_to_quotebank = '/content/drive/MyDrive/Quotebank/quotes-2020.json.bz2' \n",
        "path_to_person = '/content/drive/MyDrive/Data/person.csv'\n",
        "path_to_date = '/content/drive/MyDrive/Data/date.csv' # DATE, not data :)\n",
        "path_to_id_alias = '/content/drive/MyDrive/Data/id_alias.csv'\n",
        "path_to_id_names = '/content/drive/MyDrive/Data/id_names.csv'\n",
        "path_to_speakers = '/content/drive/MyDrive/Data/speaker_frequency.csv'\n",
        "path_to_wikidata = '/content/drive/MyDrive/Project_datasets/speaker_attributes.parquet' \n",
        "\n",
        "import seaborn as sns\n",
        "from IPython.display import display, HTML\n",
        "from matplotlib.pyplot import figure\n",
        "import matplotlib.pyplot as plt\n",
        "import scipy.stats as stats\n",
        "import pandas as pd\n",
        "import numpy as np\n",
        "import csv\n",
        "import bz2\n",
        "import json\n",
        "\n",
        "# NLP Packages\n",
        "import spacy\n",
        "from spacy import displacy\n",
        "from collections import Counter\n",
        "import en_core_web_sm\n",
        "import nltk\n",
        "from nltk.sentiment import SentimentIntensityAnalyzer\n",
        "nltk.download('vader_lexicon')\n",
        "sia = SentimentIntensityAnalyzer()\n",
        "nlp = en_core_web_sm.load()\n",
        "\n",
        "# Turn of PD warning\n",
        "pd.options.mode.chained_assignment = None  # default='warn'"
      ],
      "id": "afddb2eb-7204-4c61-80e4-b4612f8b3f63",
      "execution_count": 3,
      "outputs": [
        {
          "output_type": "stream",
          "name": "stdout",
          "text": [
            "[nltk_data] Downloading package vader_lexicon to /root/nltk_data...\n",
            "[nltk_data]   Package vader_lexicon is already up-to-date!\n"
          ]
        }
      ]
    },
    {
      "cell_type": "markdown",
      "metadata": {
        "tags": [],
        "id": "e507dbd7-6126-4e89-ba39-aabe72e88c25"
      },
      "source": [
        "## 1. Data Cleaning"
      ],
      "id": "e507dbd7-6126-4e89-ba39-aabe72e88c25"
    },
    {
      "cell_type": "markdown",
      "metadata": {
        "tags": [],
        "id": "40b22c4c-e2be-43de-a6f6-e20fdf0a4998"
      },
      "source": [
        "### 1.1 Removing quotes with no speaker"
      ],
      "id": "40b22c4c-e2be-43de-a6f6-e20fdf0a4998"
    },
    {
      "cell_type": "markdown",
      "metadata": {
        "id": "7d66df61-b84d-4f9d-b302-217f3163933b"
      },
      "source": [
        "For creating our social graph we only need the quotes having:\n",
        "- Speaker\n",
        "- Someone mentioned in the quote\n",
        "\n",
        "\n",
        "Therefore at first we remove all the quote with no speaker assigned (i.e with speaker 'None' assigned).  \n",
        "\n",
        "The quote with no person mentioned will be skipped later directly during the creation of the graph."
      ],
      "id": "7d66df61-b84d-4f9d-b302-217f3163933b"
    },
    {
      "cell_type": "code",
      "metadata": {
        "id": "37abd091-69a1-4a9f-918e-e26bbad647b8"
      },
      "source": [
        "def parse_json(json_,id):\n",
        "  person_json={}\n",
        "  date_json={}\n",
        "  if json_['speaker']!=\"None\":\n",
        "    person_json['index']=id\n",
        "    person_json['speaker']=json_['speaker']\n",
        "    person_json['quotation']=json_['quotation']\n",
        "    #set(person_json['quotation'].split()).intersection(set(names)).len()=11\n",
        "    date_json['index']=id\n",
        "    date_json['date']=json_[\"date\"]\n",
        "  return person_json, date_json\n",
        "def json_to_csv(json_list, output_csv):\n",
        "  keys=json_list[0].keys()\n",
        "  with open(output_csv, 'w', newline='')  as output_file:\n",
        "    dict_writer = csv.DictWriter(output_file, keys)\n",
        "    dict_writer.writeheader()\n",
        "    dict_writer.writerows(json_list)\n",
        "    \n",
        "def create_person_and_date(quotebank_path, person_save_path, date_save_path, max_entries, new_save = True):\n",
        "  path_to_file = quotebank_path\n",
        "  N = max_entries # Size of 2020 is about 3500000. It works but takes some time to load.\n",
        "\n",
        "  person_list=[]\n",
        "  date_list=[]\n",
        "\n",
        "  with bz2.open(path_to_file, 'rb') as s_file:\n",
        "    for index, instance in enumerate(s_file):\n",
        "      if(index < N):\n",
        "        if index%100000 == 0:\n",
        "          print(\"{}/{}\".format(index,N))\n",
        "        instance= json.loads(instance) # loading a sample\n",
        "        person_json,date_json=parse_json(instance,index)\n",
        "        if bool(person_json) and bool(date_json):\n",
        "          person_list.append(person_json)\n",
        "          date_list.append(date_json)\n",
        "      else:\n",
        "        print(\"Finished at {}/{}\".format(index,N))\n",
        "        break\n",
        "  if new_save:\n",
        "    json_to_csv(person_list,person_save_path)\n",
        "    json_to_csv(date_list,date_save_path)\n",
        "  else:\n",
        "    print(\"WARNING: DID NOT SAVE\")"
      ],
      "id": "37abd091-69a1-4a9f-918e-e26bbad647b8",
      "execution_count": null,
      "outputs": []
    },
    {
      "cell_type": "code",
      "metadata": {
        "id": "98964371-d37e-4b6c-a0da-5f1361d1064a",
        "colab": {
          "base_uri": "https://localhost:8080/"
        },
        "outputId": "cf8ec976-911a-49c5-e30e-bea650e2c748"
      },
      "source": [
        "# new_save = False to avoid overwriting old csv. This has already been run and will be loaded, as explained below.\n",
        "create_person_and_date(path_to_quotebank, path_to_person, path_to_date, 3500000, new_save=False)"
      ],
      "id": "98964371-d37e-4b6c-a0da-5f1361d1064a",
      "execution_count": null,
      "outputs": [
        {
          "output_type": "stream",
          "name": "stdout",
          "text": [
            "0/3500000\n",
            "100000/3500000\n",
            "200000/3500000\n",
            "300000/3500000\n",
            "400000/3500000\n",
            "500000/3500000\n",
            "600000/3500000\n",
            "700000/3500000\n",
            "800000/3500000\n",
            "900000/3500000\n",
            "1000000/3500000\n",
            "1100000/3500000\n",
            "1200000/3500000\n",
            "1300000/3500000\n",
            "1400000/3500000\n",
            "1500000/3500000\n",
            "1600000/3500000\n",
            "1700000/3500000\n",
            "1800000/3500000\n",
            "1900000/3500000\n",
            "2000000/3500000\n",
            "2100000/3500000\n",
            "2200000/3500000\n",
            "2300000/3500000\n",
            "2400000/3500000\n",
            "2500000/3500000\n",
            "2600000/3500000\n",
            "2700000/3500000\n",
            "2800000/3500000\n",
            "2900000/3500000\n",
            "3000000/3500000\n",
            "3100000/3500000\n",
            "3200000/3500000\n",
            "3300000/3500000\n",
            "3400000/3500000\n",
            "Finished at 3500000/3500000\n",
            "WARNING: DID NOT SAVE\n"
          ]
        }
      ]
    },
    {
      "cell_type": "markdown",
      "metadata": {
        "id": "0bc30cad-80cd-4509-9df9-a54a2cb4976c"
      },
      "source": [
        "After removing all the quotes not relavant we create two dataset and save them as csv:\n",
        "- person.csv (quot_id, speaker, quote)\n",
        "- date.csv (quot_id, date)  \n",
        "\n",
        "Both dataset contains less feature with respect to the original Quotebank, since we only kept the ones that are relavant to the project. This is an important step for reducing the size of the dataset.\n",
        "\n",
        "**person.csv** will be the main dataset we will use from now on."
      ],
      "id": "0bc30cad-80cd-4509-9df9-a54a2cb4976c"
    },
    {
      "cell_type": "markdown",
      "metadata": {
        "jp-MarkdownHeadingCollapsed": true,
        "tags": [],
        "id": "bffb9785-c269-4c89-8796-6490627e58de"
      },
      "source": [
        "### 1.2 Removing special characters"
      ],
      "id": "bffb9785-c269-4c89-8796-6490627e58de"
    },
    {
      "cell_type": "markdown",
      "metadata": {
        "id": "f00a3ffe-c68e-42d6-ba74-4928133f4821"
      },
      "source": [
        "Secondly we remove all special characters not significative from our quotes."
      ],
      "id": "f00a3ffe-c68e-42d6-ba74-4928133f4821"
    },
    {
      "cell_type": "code",
      "metadata": {
        "id": "e09fe378-ecf5-4045-92a8-3baba959e830"
      },
      "source": [
        "data = pd.read_csv(\"/content/drive/MyDrive/Data/person.csv\")"
      ],
      "id": "e09fe378-ecf5-4045-92a8-3baba959e830",
      "execution_count": null,
      "outputs": []
    },
    {
      "cell_type": "code",
      "metadata": {
        "id": "PDS9ChYmG38d"
      },
      "source": [
        "#Remove special characters\n",
        "spec_chars = ['#','&','*','+',\n",
        "              '/',':',';','<',\n",
        "              '=','>','@','[',\n",
        "              '\\\\',']','^','_',\n",
        "              '`','{','|','}',\n",
        "              '~','–']\n",
        "data_removedCHAR = data.copy()"
      ],
      "id": "PDS9ChYmG38d",
      "execution_count": null,
      "outputs": []
    },
    {
      "cell_type": "markdown",
      "metadata": {
        "id": "qB-tYP8rIuCk"
      },
      "source": [
        "**Example of removing special characters**"
      ],
      "id": "qB-tYP8rIuCk"
    },
    {
      "cell_type": "code",
      "metadata": {
        "id": "s3Pqn_0OIy0l",
        "colab": {
          "base_uri": "https://localhost:8080/"
        },
        "outputId": "376a6c49-df09-4eda-adac-002f4642b86c"
      },
      "source": [
        "sample = data_removedCHAR[0:4]\n",
        "print(\"===BEFORE:===\\n\")\n",
        "print(sample[\"quotation\"])\n",
        "for char in spec_chars:\n",
        "    sample['quotation'] = sample['quotation'].str.replace(char, ' ')\n",
        "    sample['quotation'] = sample['quotation'].str.replace('  ', ' ') # Remove double white spaces from above\n",
        "print(\"\\n===AFTER:===\\n\")\n",
        "print(sample[\"quotation\"][0:4])\n"
      ],
      "id": "s3Pqn_0OIy0l",
      "execution_count": null,
      "outputs": [
        {
          "output_type": "stream",
          "name": "stdout",
          "text": [
            "===BEFORE:===\n",
            "\n",
            "0    [ Department of Homeland Security ] was livid ...\n",
            "1    [ I met them ] when they just turned 4 and 7. ...\n",
            "2    [ The delay ] will have an impact [ on Slough ...\n",
            "3    [ The scheme ] treats addiction as an illness ...\n",
            "Name: quotation, dtype: object\n",
            "\n",
            "===AFTER:===\n",
            "\n",
            "0     Department of Homeland Security was livid and...\n",
            "1     I met them when they just turned 4 and 7. The...\n",
            "2     The delay will have an impact on Slough but t...\n",
            "3     The scheme treats addiction as an illness and...\n",
            "Name: quotation, dtype: object\n"
          ]
        }
      ]
    },
    {
      "cell_type": "markdown",
      "metadata": {
        "id": "Xj4xNJGEI5-a"
      },
      "source": [
        "**Removing special characters from entire set**"
      ],
      "id": "Xj4xNJGEI5-a"
    },
    {
      "cell_type": "code",
      "metadata": {
        "id": "f9042b09-3b90-4c3e-986f-b76ee279c600"
      },
      "source": [
        "for char in spec_chars:\n",
        "    data_removedCHAR['quotation'] = data_removedCHAR['quotation'].str.replace(char, ' ')\n",
        "data_removedCHAR['quotation'] = data_removedCHAR['quotation'].str.replace('  ', ' ') # Remove double white spaces from above"
      ],
      "id": "f9042b09-3b90-4c3e-986f-b76ee279c600",
      "execution_count": null,
      "outputs": []
    },
    {
      "cell_type": "markdown",
      "metadata": {
        "tags": [],
        "id": "832b8b32-d4e8-4a5d-afaf-50db01e99601"
      },
      "source": [
        "### 1.3 Last character"
      ],
      "id": "832b8b32-d4e8-4a5d-afaf-50db01e99601"
    },
    {
      "cell_type": "markdown",
      "metadata": {
        "id": "901a574b-4376-4c3b-95ac-45a4d5158154"
      },
      "source": [
        "We check which characters are the most frequent at the end of each quote."
      ],
      "id": "901a574b-4376-4c3b-95ac-45a4d5158154"
    },
    {
      "cell_type": "code",
      "metadata": {
        "id": "148a76b8-e1f1-4e81-943a-611f52ac1536",
        "colab": {
          "base_uri": "https://localhost:8080/"
        },
        "outputId": "f41c76c7-591f-4b58-cc1d-33c177afe933"
      },
      "source": [
        "#Check the last character of each quote \n",
        "def check_frequency_last_character(dataframe):\n",
        "  data_last_element = dataframe.copy()\n",
        "  \n",
        "  data_last_element['last'] = data_last_element['quotation'].str[-1:]\n",
        "  data_last_element = data_last_element['last'].value_counts()\n",
        "\n",
        "  return data_last_element\n",
        "\n",
        "print(\"The frequency of each last character of the quotes: \\n\", check_frequency_last_character(data_removedCHAR))"
      ],
      "id": "148a76b8-e1f1-4e81-943a-611f52ac1536",
      "execution_count": null,
      "outputs": [
        {
          "output_type": "stream",
          "name": "stdout",
          "text": [
            "The frequency of each last character of the quotes: \n",
            " ,    1584784\n",
            ".    1528685\n",
            "?      63596\n",
            "s      41663\n",
            "!      36427\n",
            "      ...   \n",
            "✊          1\n",
            "Ö          1\n",
            "¤          1\n",
            "          1\n",
            "          1\n",
            "Name: last, Length: 146, dtype: int64\n"
          ]
        }
      ]
    },
    {
      "cell_type": "markdown",
      "metadata": {
        "id": "507941df-5c4a-4a08-8c9c-ebf16105280c"
      },
      "source": [
        "We can see that a lot of quotes finish with a comma. We would like to standardize the syntax of our quotes as much as possible so we decided to:\n",
        "- replace every comma with a dot\n",
        "- add a dot at the end of each quote, except the ones with a ? or a !.\n",
        "\n",
        "**Important**: We will be doing sentiment analysis on our quotes, we need to keep ? and ! as they can be indicator of the sentiment of a text. \n"
      ],
      "id": "507941df-5c4a-4a08-8c9c-ebf16105280c"
    },
    {
      "cell_type": "code",
      "metadata": {
        "id": "ac24ca00-d85f-4bd7-af61-aa44ef152514",
        "colab": {
          "base_uri": "https://localhost:8080/"
        },
        "outputId": "d2450059-cc6b-4978-ebd1-7313aab520bf"
      },
      "source": [
        "#Add \".\" at the end of each quotes, unless it finishes with a \".\", \"?\" or \"!\". If it is a \",\", we replace the comma with a \".\" \n",
        "def replace_last_character(x):\n",
        "    if x[-1] == '.' or x[-1] == '!' or x[-1] == '?' :\n",
        "        return x\n",
        "    elif x[-1] == ',':\n",
        "        return x[:-1] + '.'\n",
        "    else:\n",
        "        return x + '.'\n",
        "\n",
        "data_removedCHAR_lastelem = data_removedCHAR.copy()\n",
        "data_removedCHAR_lastelem['quotation'] = data_removedCHAR_lastelem['quotation'].apply(replace_last_character)\n",
        "\n",
        "print(\"The frequency of each last character of the quotes : \\n\", check_frequency_last_character(data_removedCHAR_lastelem))"
      ],
      "id": "ac24ca00-d85f-4bd7-af61-aa44ef152514",
      "execution_count": null,
      "outputs": [
        {
          "output_type": "stream",
          "name": "stdout",
          "text": [
            "The frequency of each last character of the quotes : \n",
            " .    3343582\n",
            "?      63596\n",
            "!      36427\n",
            "Name: last, dtype: int64\n"
          ]
        }
      ]
    },
    {
      "cell_type": "markdown",
      "metadata": {
        "id": "dd8c6e36-45ed-47f9-8116-0a8784612fda"
      },
      "source": [
        "Saving the results in the person.csv file."
      ],
      "id": "dd8c6e36-45ed-47f9-8116-0a8784612fda"
    },
    {
      "cell_type": "code",
      "metadata": {
        "id": "db383cbc-276f-4546-8147-fefd57d95e2c"
      },
      "source": [
        "data=data_removedCHAR_lastelem\n",
        "data.to_csv(path_to_person, index=False)"
      ],
      "id": "db383cbc-276f-4546-8147-fefd57d95e2c",
      "execution_count": null,
      "outputs": []
    },
    {
      "cell_type": "markdown",
      "metadata": {
        "tags": [],
        "id": "59db9729-bb25-4752-890b-0d8956d1ff27"
      },
      "source": [
        "### 1.4 External dataset - speaker_attributes"
      ],
      "id": "59db9729-bb25-4752-890b-0d8956d1ff27"
    },
    {
      "cell_type": "markdown",
      "metadata": {
        "id": "8960d863-6f93-42bc-8fd9-c35ddc799ca6"
      },
      "source": [
        "We decided to use the external dataset speaker_attributes.parquet in order to address the problem of recognizing people mentioned in the quotes.\n",
        "\n",
        "So we imported the dataset and created two others out of it:\n",
        "- id_names (speaker_id, label, aliases)\n",
        "- id_alias (speaker_id, alias): This dataset is created because, when we want to assign a speaker_id to a person found in a quote, we search for the alias and then we assign the id, since the same speaker may have different aliases (e.g: Donald Trump, President Trump). \n",
        "\n",
        "During the creation of id_names and id_aliases we adressed some problems in the speaker_attributes.parquet:\n",
        "1. The entries with no aliases had the aliases value empty. We created a list containing only the label as alias for these entries since later we want to look only to aliases for assignin the speaker id.\n",
        "2. Many entries have None elements in the label column and they have been removed.\n",
        "3. Some entries are duplicated, which means they have same label and same aliases. The duplicates have been removed, and only the originals are kept."
      ],
      "id": "8960d863-6f93-42bc-8fd9-c35ddc799ca6"
    },
    {
      "cell_type": "code",
      "metadata": {
        "id": "56d239ec-706d-40c0-beac-93805c43960c"
      },
      "source": [
        "def create_id_names_alias(path_to_wikidata, save_path_id_names, save_path_id_alias, speakers_unique, new_save = True):\n",
        "\n",
        "  extra_data = pd.read_parquet(path_to_wikidata)\n",
        "  id_names=extra_data[['id','label','aliases']]\n",
        "  del(extra_data)\n",
        "  \n",
        "  #replacing empty values of column aliases with label\n",
        "  id_names.loc[id_names['aliases'].isnull(),'aliases']=id_names.loc[id_names['aliases'].isnull(),'label'].apply(lambda x: np.array([x]))\n",
        "  \n",
        "  #adding label to alias list\n",
        "  id_names.aliases=id_names.apply(lambda x: list(set(x.aliases).union(set([x.label]))), axis=1)\n",
        "  \n",
        "  #Removing Rows containing None elements\n",
        "  print(f'Shape with Nones:{id_names.shape}')\n",
        "  id_names=id_names.dropna()\n",
        "  print(f'Shape without Nones:{id_names.shape}')\n",
        "  \n",
        "  #Inner join with speakers\n",
        "  #Speakers contains aliases. If is true that if an alias is present also the label it is, then we don't have loss of data. This must be verified.\n",
        "  print(f'Shape before inner-join:{id_names.shape}')\n",
        "  id_names=id_names.join(speakers_unique.set_index('speaker'), on='label',how=\"inner\")\n",
        "  print(f'Shape after inner-join:{id_names.shape}')\n",
        "\n",
        "  #drop duplicates having same aliases\n",
        "  print(f'Shape with duplicates:{id_names.shape}')\n",
        "  #idn_copy is needed to transform list in string in order to make them comparable in the method drop_duplicates\n",
        "  idn_copy=id_names.copy()\n",
        "  idn_copy.aliases=idn_copy.aliases.apply(lambda x: str(x))\n",
        "  idn_copy=idn_copy.drop_duplicates(subset=['label','aliases'],keep='first')\n",
        "  id_names=id_names.join(idn_copy.set_index('id'), on='id',how=\"inner\",rsuffix=\"_copy\")\n",
        "  id_names = id_names[id_names.columns.drop(list(id_names.filter(regex='_copy')))]\n",
        "  print(f'Shape without duplicates:{id_names.shape}')\n",
        "\n",
        "  #create id_alias\n",
        "  id_alias=id_names.apply(lambda x: pd.Series(x['aliases']),axis=1).stack().reset_index(level=1, drop=True)\n",
        "  id_alias.name='alias'\n",
        "  id_alias=id_names.drop('aliases',axis=1).join(id_alias).drop('label',axis=1)\n",
        "   \n",
        "  if new_save:\n",
        "    id_alias.to_csv(save_path_id_alias, index=False)\n",
        "    id_names.to_csv(save_path_id_names, index=False)\n",
        "  else:\n",
        "    print(\"WARNING: DID NOT SAVE\")\n",
        "  return id_names, id_alias"
      ],
      "id": "56d239ec-706d-40c0-beac-93805c43960c",
      "execution_count": null,
      "outputs": []
    },
    {
      "cell_type": "code",
      "metadata": {
        "id": "24db98fb-07a6-478a-8aea-80a433214421",
        "colab": {
          "base_uri": "https://localhost:8080/"
        },
        "outputId": "8f2bd87d-1892-483e-e7ef-509a800030e0"
      },
      "source": [
        "#Create speaker unique value\n",
        "speakers_unique=pd.DataFrame(data.speaker.unique())\n",
        "\n",
        "speakers_unique.set_axis([\"speaker\"],axis=1,inplace=True)\n",
        "id_names, id_alias=create_id_names_alias(path_to_wikidata,path_to_id_names,path_to_id_alias,speakers_unique)\n",
        "\n",
        "#Remove DataFrame no longer needed\n",
        "del(speakers_unique)"
      ],
      "id": "24db98fb-07a6-478a-8aea-80a433214421",
      "execution_count": null,
      "outputs": [
        {
          "output_type": "stream",
          "name": "stdout",
          "text": [
            "Shape with Nones:(9055981, 3)\n",
            "Shape without Nones:(8543681, 3)\n",
            "Shape before inner-join:(8543681, 3)\n",
            "Shape after inner-join:(533278, 3)\n",
            "Shape with duplicates:(533278, 3)\n",
            "Shape without duplicates:(252402, 3)\n"
          ]
        }
      ]
    },
    {
      "cell_type": "code",
      "metadata": {
        "id": "JfuVHDlSPZOa"
      },
      "source": [
        "id_alias = pd.read_csv(path_to_id_alias)\n",
        "id_names = pd.read_csv(path_to_id_names)"
      ],
      "id": "JfuVHDlSPZOa",
      "execution_count": null,
      "outputs": []
    },
    {
      "cell_type": "markdown",
      "metadata": {
        "id": "5fff06c8-fc75-4361-bbfc-be51f82326af"
      },
      "source": [
        "## 2. Data Analysis"
      ],
      "id": "5fff06c8-fc75-4361-bbfc-be51f82326af"
    },
    {
      "cell_type": "markdown",
      "metadata": {
        "id": "9beaf4a1-6d80-4560-8b78-749481bd6ea4"
      },
      "source": [
        "### 2.1 Distribution of speakers"
      ],
      "id": "9beaf4a1-6d80-4560-8b78-749481bd6ea4"
    },
    {
      "cell_type": "markdown",
      "metadata": {
        "id": "308a0057-5343-4b61-891e-149eff2bdbaa"
      },
      "source": [
        "We study the distribution of the column \"speaker\", in particular we search which are the names that are the most frequent and other statistical metrics."
      ],
      "id": "308a0057-5343-4b61-891e-149eff2bdbaa"
    },
    {
      "cell_type": "code",
      "metadata": {
        "id": "aab80196-9b26-46fd-934c-4f4a1c6c03d8",
        "colab": {
          "base_uri": "https://localhost:8080/"
        },
        "outputId": "be0f9f44-d072-439f-d424-99869de8bd81"
      },
      "source": [
        "speaker_frequency = data['speaker'].value_counts()\n",
        "speaker_frequency.head(10)"
      ],
      "id": "aab80196-9b26-46fd-934c-4f4a1c6c03d8",
      "execution_count": null,
      "outputs": [
        {
          "output_type": "execute_result",
          "data": {
            "text/plain": [
              "President Donald Trump    28023\n",
              "Bernie Sanders            13189\n",
              "Joe Biden                 12817\n",
              "President Trump           12415\n",
              "Andrew Cuomo              11088\n",
              "Narendra Modi              8239\n",
              "Elizabeth Warren           7647\n",
              "Donald Trump               7104\n",
              "Boris Johnson              6952\n",
              "Scott Morrison             6601\n",
              "Name: speaker, dtype: int64"
            ]
          },
          "metadata": {},
          "execution_count": 18
        }
      ]
    },
    {
      "cell_type": "code",
      "metadata": {
        "id": "ef7fe4af-dc74-4887-99c4-8bda76ec9928",
        "colab": {
          "base_uri": "https://localhost:8080/",
          "height": 439
        },
        "outputId": "8bb6189a-42ae-4452-ed3e-0754c4d1ba67"
      },
      "source": [
        "# histogram plot \n",
        "speaker_frequency.head(30).plot.bar()\n",
        "plt.ylim((0,29000))\n",
        "plt.ylabel('Number of occurrences')\n",
        "plt.title('Distribution of the frequencies of speaker alias')\n"
      ],
      "id": "ef7fe4af-dc74-4887-99c4-8bda76ec9928",
      "execution_count": null,
      "outputs": [
        {
          "output_type": "execute_result",
          "data": {
            "text/plain": [
              "Text(0.5, 1.0, 'Distribution of the frequencies of speaker alias')"
            ]
          },
          "metadata": {},
          "execution_count": 19
        },
        {
          "output_type": "display_data",
          "data": {
            "image/png": "[encoded data removed]",
            "text/plain": [
              "<Figure size 432x288 with 1 Axes>"
            ]
          },
          "metadata": {
            "needs_background": "light"
          }
        }
      ]
    },
    {
      "cell_type": "code",
      "metadata": {
        "id": "e9b6df7a-1571-45e0-937f-686bf0cba2bf",
        "colab": {
          "base_uri": "https://localhost:8080/"
        },
        "outputId": "7d69ce0a-5176-43ac-e693-edbd04e50e10"
      },
      "source": [
        "#describe\n",
        "speaker_frequency.describe()"
      ],
      "id": "e9b6df7a-1571-45e0-937f-686bf0cba2bf",
      "execution_count": null,
      "outputs": [
        {
          "output_type": "execute_result",
          "data": {
            "text/plain": [
              "count    218414.000000\n",
              "mean         15.766411\n",
              "std         112.704624\n",
              "min           1.000000\n",
              "25%           2.000000\n",
              "50%           4.000000\n",
              "75%          11.000000\n",
              "max       28023.000000\n",
              "Name: speaker, dtype: float64"
            ]
          },
          "metadata": {},
          "execution_count": 20
        }
      ]
    },
    {
      "cell_type": "markdown",
      "metadata": {
        "id": "Pg0u3NE0V67U"
      },
      "source": [
        "**Conclusions**\n",
        "- Trump is the most frequent speaker \n",
        "- There are 198,746 unique speakes ( Based on alias )\n",
        "- The most frequent speakers are politicians, especially US politicians. However, speakers such as Angela Merkel and Vladimir Putin do appear.\n",
        "\n",
        "The social graph is likely to map political relations rather than interpersonal relationships.\n"
      ],
      "id": "Pg0u3NE0V67U"
    },
    {
      "cell_type": "markdown",
      "metadata": {
        "id": "82c6b636-3f16-43b7-8883-48e06d96cbd5"
      },
      "source": [
        "### 2.2 Distribution of mentioned people"
      ],
      "id": "82c6b636-3f16-43b7-8883-48e06d96cbd5"
    },
    {
      "cell_type": "markdown",
      "metadata": {
        "id": "GoGARnwlVfe5"
      },
      "source": [
        "Now we look at which people (their aliases) are mentioned the most, and we ask ourselves if the dataset is biased by being mainly about a certain person or topic.\n",
        "\n",
        "- **Note 1:** We first take 40 samples of our cleaned dataset, this is then used in two different ways shown in this section (2.2) and the next (2.3).\n",
        "- **Note 2:** We remove speakers that only occur once, since usually this is just noise from the Spacy NLP. "
      ],
      "id": "GoGARnwlVfe5"
    },
    {
      "cell_type": "code",
      "metadata": {
        "id": "tEqCiiADVaeZ"
      },
      "source": [
        "def create_mentioned_persons(data, save_path, max_entries, new_save = True, start_idx = 0):\n",
        "  data_chunk = data[start_idx:start_idx+max_entries]\n",
        "  N = (data_chunk.size)/3\n",
        "\n",
        "  mentioned_persons = pd.DataFrame(columns=['person','value'])\n",
        "  index_ = 0\n",
        "  for index, row in data_chunk.iterrows():\n",
        "    doc = nlp(row['quotation'])\n",
        "    index_ += 1\n",
        "    if index_%1000 == 0:\n",
        "      print(\"{}/{}\".format(index_,N))\n",
        "    for ent in doc.ents:\n",
        "      if ent.label_ == \"PERSON\":\n",
        "        mentioned_persons = mentioned_persons.append({'person':ent.text,'value':1}, ignore_index=True)\n",
        "  if new_save:\n",
        "    mentioned_persons.to_csv(save_path, index=False)\n",
        "  else:\n",
        "    print(\"WARNING: DID NOT SAVE\")\n",
        "\n",
        "  return mentioned_persons"
      ],
      "id": "tEqCiiADVaeZ",
      "execution_count": null,
      "outputs": []
    },
    {
      "cell_type": "code",
      "metadata": {
        "id": "b0968dc0-dc5e-4a8c-973f-752b4fc0fba1",
        "colab": {
          "base_uri": "https://localhost:8080/"
        },
        "outputId": "796ec53c-74c4-4e59-b878-a6fd620cd573"
      },
      "source": [
        "# Create samples\n",
        "samples = []\n",
        "\n",
        "sample_size = 1000\n",
        "sample_increment = 50000\n",
        "\n",
        "# Get number of mentioned persons\n",
        "for k in range(0,40):\n",
        "  print(k)\n",
        "  samples.append(create_mentioned_persons(data, \"null\", sample_size, new_save = False, start_idx = k*sample_increment))"
      ],
      "id": "b0968dc0-dc5e-4a8c-973f-752b4fc0fba1",
      "execution_count": null,
      "outputs": [
        {
          "output_type": "stream",
          "name": "stdout",
          "text": [
            "0\n",
            "1000/1000.0\n",
            "WARNING: DID NOT SAVE\n",
            "1\n",
            "1000/1000.0\n",
            "WARNING: DID NOT SAVE\n",
            "2\n",
            "1000/1000.0\n",
            "WARNING: DID NOT SAVE\n",
            "3\n",
            "1000/1000.0\n",
            "WARNING: DID NOT SAVE\n",
            "4\n",
            "1000/1000.0\n",
            "WARNING: DID NOT SAVE\n",
            "5\n",
            "1000/1000.0\n",
            "WARNING: DID NOT SAVE\n",
            "6\n",
            "1000/1000.0\n",
            "WARNING: DID NOT SAVE\n",
            "7\n",
            "1000/1000.0\n",
            "WARNING: DID NOT SAVE\n",
            "8\n",
            "1000/1000.0\n",
            "WARNING: DID NOT SAVE\n",
            "9\n",
            "1000/1000.0\n",
            "WARNING: DID NOT SAVE\n",
            "10\n",
            "1000/1000.0\n",
            "WARNING: DID NOT SAVE\n",
            "11\n",
            "1000/1000.0\n",
            "WARNING: DID NOT SAVE\n",
            "12\n",
            "1000/1000.0\n",
            "WARNING: DID NOT SAVE\n",
            "13\n",
            "1000/1000.0\n",
            "WARNING: DID NOT SAVE\n",
            "14\n",
            "1000/1000.0\n",
            "WARNING: DID NOT SAVE\n",
            "15\n",
            "1000/1000.0\n",
            "WARNING: DID NOT SAVE\n",
            "16\n",
            "1000/1000.0\n",
            "WARNING: DID NOT SAVE\n",
            "17\n",
            "1000/1000.0\n",
            "WARNING: DID NOT SAVE\n",
            "18\n",
            "1000/1000.0\n",
            "WARNING: DID NOT SAVE\n",
            "19\n",
            "1000/1000.0\n",
            "WARNING: DID NOT SAVE\n",
            "20\n",
            "1000/1000.0\n",
            "WARNING: DID NOT SAVE\n",
            "21\n",
            "1000/1000.0\n",
            "WARNING: DID NOT SAVE\n",
            "22\n",
            "1000/1000.0\n",
            "WARNING: DID NOT SAVE\n",
            "23\n",
            "1000/1000.0\n",
            "WARNING: DID NOT SAVE\n",
            "24\n",
            "1000/1000.0\n",
            "WARNING: DID NOT SAVE\n",
            "25\n",
            "1000/1000.0\n",
            "WARNING: DID NOT SAVE\n",
            "26\n",
            "1000/1000.0\n",
            "WARNING: DID NOT SAVE\n",
            "27\n",
            "1000/1000.0\n",
            "WARNING: DID NOT SAVE\n",
            "28\n",
            "1000/1000.0\n",
            "WARNING: DID NOT SAVE\n",
            "29\n",
            "1000/1000.0\n",
            "WARNING: DID NOT SAVE\n",
            "30\n",
            "1000/1000.0\n",
            "WARNING: DID NOT SAVE\n",
            "31\n",
            "1000/1000.0\n",
            "WARNING: DID NOT SAVE\n",
            "32\n",
            "1000/1000.0\n",
            "WARNING: DID NOT SAVE\n",
            "33\n",
            "1000/1000.0\n",
            "WARNING: DID NOT SAVE\n",
            "34\n",
            "1000/1000.0\n",
            "WARNING: DID NOT SAVE\n",
            "35\n",
            "1000/1000.0\n",
            "WARNING: DID NOT SAVE\n",
            "36\n",
            "1000/1000.0\n",
            "WARNING: DID NOT SAVE\n",
            "37\n",
            "1000/1000.0\n",
            "WARNING: DID NOT SAVE\n",
            "38\n",
            "1000/1000.0\n",
            "WARNING: DID NOT SAVE\n",
            "39\n",
            "1000/1000.0\n",
            "WARNING: DID NOT SAVE\n"
          ]
        }
      ]
    },
    {
      "cell_type": "code",
      "metadata": {
        "id": "QFsRmLcTXOHy",
        "colab": {
          "base_uri": "https://localhost:8080/",
          "height": 416
        },
        "outputId": "72103350-1f16-490c-a84b-c7138d34bab1"
      },
      "source": [
        "# Get distribution of mentioned persons \n",
        "mentioned_persons = pd.DataFrame(columns = ['name', 'count'])\n",
        "for sample in samples:\n",
        "  persons_aggregated = sample.groupby('person').count().sort_values('value',ascending=False)\n",
        "  persons_aggregated = persons_aggregated.rename(columns={\"persons\": \"name\", \"value\": \"count\"}).reset_index()\n",
        "  mentioned_persons = pd.concat([mentioned_persons,persons_aggregated])\n",
        "mentioned_persons = mentioned_persons.groupby('person').sum().sort_values('count',ascending=False)\n",
        "mentioned_persons = mentioned_persons.drop(labels='name', axis=1)\n",
        "mentioned_persons = mentioned_persons.loc[mentioned_persons['count'] > 1].reset_index() # Filter noise\n",
        "\n",
        "mentioned_persons.head(20)\n",
        "\n",
        "figure(figsize=(7, 4), dpi=80)\n",
        "f = plt.bar(mentioned_persons.head(20)['person'],mentioned_persons.head(20)['count'], width=0.4)\n",
        "plt.xticks(rotation=90)\n",
        "plt.ylabel(\"Number of occurences\")\n",
        "plt.title(\"Distribution of person aliases mentioned in 40 samples\\n of 1000 quotes over 2,000,000 quotes\")"
      ],
      "id": "QFsRmLcTXOHy",
      "execution_count": null,
      "outputs": [
        {
          "output_type": "execute_result",
          "data": {
            "text/plain": [
              "Text(0.5, 1.0, 'Distribution of person aliases mentioned in 40 samples\\n of 1000 quotes over 2,000,000 quotes')"
            ]
          },
          "metadata": {},
          "execution_count": 23
        },
        {
          "output_type": "display_data",
          "data": {
            "image/png": "[encoded data removed]",
            "text/plain": [
              "<Figure size 560x320 with 1 Axes>"
            ]
          },
          "metadata": {
            "needs_background": "light"
          }
        }
      ]
    },
    {
      "cell_type": "markdown",
      "metadata": {
        "id": "7GIJRs-SV-Vj"
      },
      "source": [
        "**Conclusions**\n",
        "- As in the case of speakers, Trump is the most common person to be mentioned in a quote.\n",
        "- A difficulty is apparent: people are not usually mentioned by their full name. This is what we fixed by creating the id_aliases and id_names, we map aliases of people to their full name using the wikidata dataset for speakers.\n",
        "- Still, different people may have same aliases, then in this cases we must make guesses when mapping alias to full name. Since the dataset seems to be centered around the 2020 US election we can assume that Bernie, Joe and Mike refer to Bernie Sanders, Joe Biden, Mike pence.\n",
        "- Jesus is a popular dude. \n",
        "\n",
        "**Reflection**\n",
        "- This analysis might detect mentioned people that were wrongly detected as speakers by the Quobert model. However, it can also be interesting to see in the final result if it is common for a person to mention themselves."
      ],
      "id": "7GIJRs-SV-Vj"
    },
    {
      "cell_type": "markdown",
      "metadata": {
        "id": "qVY7euwnWBwh"
      },
      "source": [
        "### 2.3 Distribution of number of quotes containing a mention"
      ],
      "id": "qVY7euwnWBwh"
    },
    {
      "cell_type": "markdown",
      "metadata": {
        "id": "8QW6yaugWLUo"
      },
      "source": [
        "One important step for understanding if the project is feasible is considering if we have enough quotations containing a mention.\n",
        "\n",
        "A first approach for getting a hint of the amount of these particular quotations without computing all of them is considering only sub-samples with fixed size.\n",
        "\n",
        "By using the samples created before we measure and plot how many quotes in the sample contain a mention.\n",
        "\n",
        "This may give us an approximative idea if there is enough data for the project."
      ],
      "id": "8QW6yaugWLUo"
    },
    {
      "cell_type": "code",
      "metadata": {
        "id": "NLwXZ2w5V_pK",
        "colab": {
          "base_uri": "https://localhost:8080/",
          "height": 327
        },
        "outputId": "615d1cbe-698d-4619-8eb6-3533cdf316d6"
      },
      "source": [
        "# Get number of mentioned persons in the sample quotes\n",
        "number_of_mentioned_persons = []\n",
        "for sample in samples:\n",
        "  persons_aggregated = sample.groupby('person').count().sort_values('value',ascending=False)\n",
        "  persons_aggregated = persons_aggregated.loc[persons_aggregated['value'] > 1] # Filter noise\n",
        "  number_of_mentioned_persons.append(persons_aggregated.sum(axis=0))\n",
        "\n",
        "sum_np = np.asarray(number_of_mentioned_persons)\n",
        "x = np.arange(1,41).reshape(40,1)\n",
        "x = [int(i) for i in list(x)]\n",
        "sum_np = [int(i) for i in list(sum_np)]\n",
        "\n",
        "#plt.bar(x,sum_np)\n",
        "plt.bar(x, sum_np, color ='blue',\n",
        "        width = 0.4)\n",
        "plt.xlabel(\"Sample number\")\n",
        "plt.ylabel(\"Number of mentioned people\")\n",
        "plt.title(\"Number of mentioned people in 40 samples\\n of 1000 quotes over 2,000,000 quotes\")\n",
        "\n",
        "print(\"Average number of mentioned people per 1000 quotes:\",int(np.asarray(sum_np).mean()))"
      ],
      "id": "NLwXZ2w5V_pK",
      "execution_count": null,
      "outputs": [
        {
          "output_type": "stream",
          "name": "stdout",
          "text": [
            "Average number of mentioned persons per 1000 quotes: 30\n"
          ]
        },
        {
          "output_type": "display_data",
          "data": {
            "image/png": "[encoded data removed]",
            "text/plain": [
              "<Figure size 432x288 with 1 Axes>"
            ]
          },
          "metadata": {
            "needs_background": "light"
          }
        }
      ]
    },
    {
      "cell_type": "markdown",
      "metadata": {
        "id": "DLD2L3lWXXe0"
      },
      "source": [
        "**Conclusion**\n",
        "- Given the results, it is reasonable to assume that there is an even distribution of quotes over the entire dataset that contains a mention of one or more people.\n",
        "- There are on average 30 mentioned people (not unique) per 1000 quotes. The cleaned dataset contains about 3000 * 1000 quotes which means that about 90,000 quotes mention a person.\n",
        "- There is probably enough data to create a sufficient social graph. "
      ],
      "id": "DLD2L3lWXXe0"
    },
    {
      "cell_type": "markdown",
      "metadata": {
        "id": "iZhrjIA_XcQ1"
      },
      "source": [
        "### 2.4 Distribution of the sentimental analysis results over the quotes"
      ],
      "id": "iZhrjIA_XcQ1"
    },
    {
      "cell_type": "markdown",
      "metadata": {
        "id": "7VbJnVgzXiUX"
      },
      "source": [
        "Before creating the social graph, it may be of interest looking at the distribution of the sentimental analysis results over the quotes.\n",
        "\n",
        "We are using the library nltk where we import SentimentIntensityAnalyzer. When passing a quote, the SentimentIntensityAnalyzer will return 4 numbers corresponding to : \n",
        "\n",
        "- negative: the negative sentiment in a sentence\n",
        "- neutral: the neutral sentiment in a sentence\n",
        "- positive: the positive sentiment in the sentence\n",
        "- compound: the aggregated sentiment\n",
        "\n",
        "\n",
        "**What we expect**:  \n",
        "At first, we may naivly expect most of the quote to be negative with respect to the speaker, since usually in the journalism the articles containing criticism and aggressive discussion are the most read because they arouse curiosity in the reader."
      ],
      "id": "7VbJnVgzXiUX"
    },
    {
      "cell_type": "code",
      "metadata": {
        "id": "OUuyjbqktgEj"
      },
      "source": [
        "def get_avg_pos_neg_comp_sentiment(data, max_entries, start_idx = 0):\n",
        "  data_chunk = data[start_idx:start_idx+max_entries]\n",
        "  N = (data_chunk.size)/3\n",
        "\n",
        "  positive = []\n",
        "  neutral = []\n",
        "  negative = []  \n",
        "  compound = []\n",
        "  index_ = 0\n",
        "  for index, row in data_chunk.iterrows():\n",
        "    score=sia.polarity_scores(row['quotation'])\n",
        "    positive.append(score['pos'])\n",
        "    neutral.append(score['neu'])\n",
        "    negative.append(score['neg'])\n",
        "    compound.append(score['compound'])\n",
        "    index_ += 1\n",
        "  positive = np.asarray(positive).mean()\n",
        "  neutral = np.asarray(neutral).mean()\n",
        "  negative = np.asarray(negative).mean()\n",
        "  compound = np.asarray(compound).mean()\n",
        "\n",
        "  return positive, neutral, negative, compound"
      ],
      "id": "OUuyjbqktgEj",
      "execution_count": null,
      "outputs": []
    },
    {
      "cell_type": "code",
      "metadata": {
        "id": "tZdAApp2tla5",
        "colab": {
          "base_uri": "https://localhost:8080/"
        },
        "outputId": "b035968e-d9ce-4605-a7a8-c23655d47948"
      },
      "source": [
        "positive = []\n",
        "negative = []\n",
        "neutral = []\n",
        "compound = []\n",
        "sample_size = 50\n",
        "sample_increment = 1000\n",
        "\n",
        "for k in range(0,2000):\n",
        "  if k%100 == 0:\n",
        "    print(k)\n",
        "  pos, neu, neg, comp = get_avg_pos_neg_comp_sentiment(data, sample_size, start_idx = k*sample_increment)\n",
        "  positive.append(pos)\n",
        "  neutral.append(neu)\n",
        "  negative.append(neg)  \n",
        "  compound.append(comp)  "
      ],
      "id": "tZdAApp2tla5",
      "execution_count": null,
      "outputs": [
        {
          "output_type": "stream",
          "name": "stdout",
          "text": [
            "0\n",
            "100\n",
            "200\n",
            "300\n",
            "400\n",
            "500\n",
            "600\n",
            "700\n",
            "800\n",
            "900\n",
            "1000\n",
            "1100\n",
            "1200\n",
            "1300\n",
            "1400\n",
            "1500\n",
            "1600\n",
            "1700\n",
            "1800\n",
            "1900\n"
          ]
        }
      ]
    },
    {
      "cell_type": "code",
      "metadata": {
        "id": "5w1AfW0etmJ-",
        "colab": {
          "base_uri": "https://localhost:8080/",
          "height": 327
        },
        "outputId": "b8b31740-98c1-4ab9-dd3a-fabdda4a3169"
      },
      "source": [
        "plt.hist(positive, bins=50, color='blue',label=\"positive\")\n",
        "plt.hist(neutral, bins=50, color='gray',label=\"neutral\")\n",
        "plt.hist(negative, bins=50, color='red',label=\"negative\")\n",
        "plt.legend(loc=\"upper right\")\n",
        "plt.ylabel(\"Number of occurences\")\n",
        "plt.xlabel(\"Sentiment score\")\n",
        "plt.title(\"Distribution of positive, negative, neutral sentiment score\\n in 2000 samples of 50 quotes over 2,000,000 quotes\")"
      ],
      "id": "5w1AfW0etmJ-",
      "execution_count": null,
      "outputs": [
        {
          "output_type": "execute_result",
          "data": {
            "text/plain": [
              "Text(0.5, 1.0, 'Distribution of positive, negative, neutral sentiment score\\n in 2000 samples of 50 quotes over 2,000,000 quotes')"
            ]
          },
          "metadata": {},
          "execution_count": 27
        },
        {
          "output_type": "display_data",
          "data": {
            "image/png": "[encoded data removed]",
            "text/plain": [
              "<Figure size 432x288 with 1 Axes>"
            ]
          },
          "metadata": {
            "needs_background": "light"
          }
        }
      ]
    },
    {
      "cell_type": "code",
      "metadata": {
        "id": "Cc3l6khJto8T",
        "colab": {
          "base_uri": "https://localhost:8080/",
          "height": 327
        },
        "outputId": "0bf14e2c-d667-449a-8da4-809525636045"
      },
      "source": [
        "plt.hist(compound, bins=100, color='purple')\n",
        "plt.ylabel(\"Number of occurences\")\n",
        "plt.xlabel(\"Sentiment score\")\n",
        "plt.title(\"Distribution of compound sentiment score in 2000 samples\\n of 50 quotes over 2,000,000 quotes\")\n"
      ],
      "id": "Cc3l6khJto8T",
      "execution_count": null,
      "outputs": [
        {
          "output_type": "execute_result",
          "data": {
            "text/plain": [
              "Text(0.5, 1.0, 'Distribution of compound sentiment score in 2000 samples\\n of 50 quotes over 2,000,000 quotes')"
            ]
          },
          "metadata": {},
          "execution_count": 28
        },
        {
          "output_type": "display_data",
          "data": {
            "image/png": "[encoded data removed]",
            "text/plain": [
              "<Figure size 432x288 with 1 Axes>"
            ]
          },
          "metadata": {
            "needs_background": "light"
          }
        }
      ]
    },
    {
      "cell_type": "markdown",
      "metadata": {
        "id": "M-xRV77Af8Dk"
      },
      "source": [
        "**Conclusion**\n",
        "- Most quotes are quite neutral: The newspapers probably make sure that the content is kept reasonably formal and not personal.\n",
        "- As mentioned before, the quotes are probably about the election and politicians tend to stay neutral to avoid unnecessary conflicts.\n",
        "- It might be required to filter out the neutral scores to obtain a compound score that reflects if the quote sentiment is negative or positive since the neutral score dominates as a weight in the compound score."
      ],
      "id": "M-xRV77Af8Dk"
    },
    {
      "cell_type": "markdown",
      "metadata": {
        "id": "wHaTHWK2Zhsd"
      },
      "source": [
        "## 3. Graph Creation"
      ],
      "id": "wHaTHWK2Zhsd"
    },
    {
      "cell_type": "markdown",
      "metadata": {
        "id": "Po42aEuZZoga"
      },
      "source": [
        "After the cleaning and the analysis of the data we start implementing the graph creation.\n",
        "\n",
        "The graph is stored in a DataFrame with the following columns:\n",
        "- quot_id\n",
        "- speaker_id\n",
        "- mention_id\n",
        "- compound: measure of the positivity/negativity of the quote\n",
        "\n",
        "The construction of the graph follows this steps for each quote:\n",
        "1. We tokenize the quote by using the NLP library **spacy**.\n",
        "2. For each token in the quote we check if it appears in the id_alias dataset. If this is the case then the token represents a person.\n",
        "**Important:** By using the id_alias dataset we are implementing the assignement by alias and not directly by label which may be limitating.\n",
        "3. We apply sentimental analysis on the quote and we obtain the compound measure.  \n",
        "**Important:** We decided to use the compound measure of sentiment instead of the triplet (negative, netural, positive) because we want to use a single parameter. In the future we may consider to build a custom more appropriate single measurement by combining the values of the triplet in a specific way.\n",
        "4. After we computed all the elements we append it to the graph by adding it to the DataFrame."
      ],
      "id": "Po42aEuZZoga"
    },
    {
      "cell_type": "code",
      "metadata": {
        "id": "pO1DZycher49"
      },
      "source": [
        "#it searches for the person in id_alias\n",
        "def find_id(nouns):\n",
        "  for noun in nouns:\n",
        "    result=id_alias[id_alias.alias==noun]\n",
        "    if not result.empty:\n",
        "      return result.id.values[0]\n",
        "  return \"\""
      ],
      "id": "pO1DZycher49",
      "execution_count": null,
      "outputs": []
    },
    {
      "cell_type": "markdown",
      "metadata": {
        "id": "0M3qaj8PllxI"
      },
      "source": [
        "We test the code on a sample of 200 quotes.\n",
        "\n",
        "It is important to notice how roughly **10%** of the quotes contribute to the population of the graph.  "
      ],
      "id": "0M3qaj8PllxI"
    },
    {
      "cell_type": "markdown",
      "metadata": {
        "id": "K5lsRgyyVik1"
      },
      "source": [
        "We compute the distance between the edges from the compound measure obtained from the sentimental analysis."
      ],
      "id": "K5lsRgyyVik1"
    },
    {
      "cell_type": "code",
      "metadata": {
        "id": "it0JYoVMrTU4"
      },
      "source": [
        "#function for distance\n",
        "def distance(x):\n",
        "  return 1/(np.exp((1-x)/(x+1)))"
      ],
      "id": "it0JYoVMrTU4",
      "execution_count": null,
      "outputs": []
    },
    {
      "cell_type": "code",
      "metadata": {
        "id": "rjHbZ829evgN",
        "colab": {
          "base_uri": "https://localhost:8080/"
        },
        "outputId": "050d2996-bfea-48e8-cbaa-c36dacdbc3d4"
      },
      "source": [
        "#create graph dataframe\n",
        "graph=pd.DataFrame({'quot_id':[],'speaker_id':[],\"mention_id\":[],\"compound\":[], \"distance\":[]})\n",
        "\n",
        "#populate the graph\n",
        "for i,row in enumerate(data.values):\n",
        "  N=200\n",
        "  if i<N:\n",
        "    if i%50==0:\n",
        "      print(f'{i}/{N}')\n",
        "    quotation_id=int(row[0])\n",
        "    speaker_id=find_id([row[1]])\n",
        "    quotation=row[2]\n",
        "    doc = nlp(quotation)\n",
        "    nouns=[x.text for x in doc.ents]\n",
        "    mention_id=find_id(nouns)\n",
        "    if mention_id and speaker_id:\n",
        "      score=sia.polarity_scores(quotation)\n",
        "      dict_={'quot_id':int(quotation_id),'speaker_id':speaker_id,'mention_id':mention_id,\"compound\":score['compound'], \"distance\":distance(score['compound'])}\n",
        "      graph=graph.append(dict_,ignore_index=True)\n",
        "      print('Element appended to the graph. :)')"
      ],
      "id": "rjHbZ829evgN",
      "execution_count": null,
      "outputs": [
        {
          "output_type": "stream",
          "name": "stdout",
          "text": [
            "0/200\n",
            "Element appended to the graph. :)\n",
            "Element appended to the graph. :)\n",
            "50/200\n",
            "Element appended to the graph. :)\n",
            "Element appended to the graph. :)\n",
            "Element appended to the graph. :)\n",
            "Element appended to the graph. :)\n",
            "Element appended to the graph. :)\n",
            "Element appended to the graph. :)\n",
            "100/200\n",
            "Element appended to the graph. :)\n",
            "Element appended to the graph. :)\n",
            "Element appended to the graph. :)\n",
            "Element appended to the graph. :)\n",
            "Element appended to the graph. :)\n",
            "150/200\n",
            "Element appended to the graph. :)\n",
            "Element appended to the graph. :)\n",
            "Element appended to the graph. :)\n",
            "Element appended to the graph. :)\n",
            "Element appended to the graph. :)\n",
            "Element appended to the graph. :)\n",
            "Element appended to the graph. :)\n",
            "Element appended to the graph. :)\n"
          ]
        }
      ]
    },
    {
      "cell_type": "markdown",
      "metadata": {
        "id": "8WOfMIeVa1Tt"
      },
      "source": [
        "**Conversion to networkx**"
      ],
      "id": "8WOfMIeVa1Tt"
    },
    {
      "cell_type": "code",
      "metadata": {
        "id": "ta_8zz_nawhs",
        "colab": {
          "base_uri": "https://localhost:8080/",
          "height": 703
        },
        "outputId": "078882af-9e73-43f5-d51a-1a51d8e791d1"
      },
      "source": [
        "graph"
      ],
      "id": "ta_8zz_nawhs",
      "execution_count": null,
      "outputs": [
        {
          "output_type": "execute_result",
          "data": {
            "text/html": [
              "<div>\n",
              "<style scoped>\n",
              "    .dataframe tbody tr th:only-of-type {\n",
              "        vertical-align: middle;\n",
              "    }\n",
              "\n",
              "    .dataframe tbody tr th {\n",
              "        vertical-align: top;\n",
              "    }\n",
              "\n",
              "    .dataframe thead th {\n",
              "        text-align: right;\n",
              "    }\n",
              "</style>\n",
              "<table border=\"1\" class=\"dataframe\">\n",
              "  <thead>\n",
              "    <tr style=\"text-align: right;\">\n",
              "      <th></th>\n",
              "      <th>quot_id</th>\n",
              "      <th>speaker_id</th>\n",
              "      <th>mention_id</th>\n",
              "      <th>compound</th>\n",
              "      <th>distance</th>\n",
              "    </tr>\n",
              "  </thead>\n",
              "  <tbody>\n",
              "    <tr>\n",
              "      <th>0</th>\n",
              "      <td>10.0</td>\n",
              "      <td>Q5220272</td>\n",
              "      <td>Q6279</td>\n",
              "      <td>0.0000</td>\n",
              "      <td>0.367879</td>\n",
              "    </tr>\n",
              "    <tr>\n",
              "      <th>1</th>\n",
              "      <td>68.0</td>\n",
              "      <td>Q4954264</td>\n",
              "      <td>Q43162328</td>\n",
              "      <td>0.8750</td>\n",
              "      <td>0.935507</td>\n",
              "    </tr>\n",
              "    <tr>\n",
              "      <th>2</th>\n",
              "      <td>101.0</td>\n",
              "      <td>Q7185804</td>\n",
              "      <td>Q5325563</td>\n",
              "      <td>0.8586</td>\n",
              "      <td>0.926743</td>\n",
              "    </tr>\n",
              "    <tr>\n",
              "      <th>3</th>\n",
              "      <td>103.0</td>\n",
              "      <td>Q58166424</td>\n",
              "      <td>Q5546084</td>\n",
              "      <td>-0.6444</td>\n",
              "      <td>0.009811</td>\n",
              "    </tr>\n",
              "    <tr>\n",
              "      <th>4</th>\n",
              "      <td>136.0</td>\n",
              "      <td>Q6222401</td>\n",
              "      <td>Q22686</td>\n",
              "      <td>-0.8020</td>\n",
              "      <td>0.000112</td>\n",
              "    </tr>\n",
              "    <tr>\n",
              "      <th>5</th>\n",
              "      <td>138.0</td>\n",
              "      <td>Q56515295</td>\n",
              "      <td>Q150502</td>\n",
              "      <td>0.0000</td>\n",
              "      <td>0.367879</td>\n",
              "    </tr>\n",
              "    <tr>\n",
              "      <th>6</th>\n",
              "      <td>148.0</td>\n",
              "      <td>Q979221</td>\n",
              "      <td>Q254820</td>\n",
              "      <td>0.7003</td>\n",
              "      <td>0.838397</td>\n",
              "    </tr>\n",
              "    <tr>\n",
              "      <th>7</th>\n",
              "      <td>153.0</td>\n",
              "      <td>Q373912</td>\n",
              "      <td>Q6235957</td>\n",
              "      <td>-0.6283</td>\n",
              "      <td>0.012517</td>\n",
              "    </tr>\n",
              "    <tr>\n",
              "      <th>8</th>\n",
              "      <td>174.0</td>\n",
              "      <td>Q220579</td>\n",
              "      <td>Q677871</td>\n",
              "      <td>0.2023</td>\n",
              "      <td>0.515057</td>\n",
              "    </tr>\n",
              "    <tr>\n",
              "      <th>9</th>\n",
              "      <td>179.0</td>\n",
              "      <td>Q892014</td>\n",
              "      <td>Q892014</td>\n",
              "      <td>-0.2023</td>\n",
              "      <td>0.221528</td>\n",
              "    </tr>\n",
              "    <tr>\n",
              "      <th>10</th>\n",
              "      <td>202.0</td>\n",
              "      <td>Q4886348</td>\n",
              "      <td>Q22686</td>\n",
              "      <td>-0.7334</td>\n",
              "      <td>0.001501</td>\n",
              "    </tr>\n",
              "    <tr>\n",
              "      <th>11</th>\n",
              "      <td>222.0</td>\n",
              "      <td>Q5606248</td>\n",
              "      <td>Q22686</td>\n",
              "      <td>0.6369</td>\n",
              "      <td>0.801058</td>\n",
              "    </tr>\n",
              "    <tr>\n",
              "      <th>12</th>\n",
              "      <td>226.0</td>\n",
              "      <td>Q439365</td>\n",
              "      <td>Q439365</td>\n",
              "      <td>0.6901</td>\n",
              "      <td>0.832467</td>\n",
              "    </tr>\n",
              "    <tr>\n",
              "      <th>13</th>\n",
              "      <td>242.0</td>\n",
              "      <td>Q483417</td>\n",
              "      <td>Q817749</td>\n",
              "      <td>-0.3612</td>\n",
              "      <td>0.118734</td>\n",
              "    </tr>\n",
              "    <tr>\n",
              "      <th>14</th>\n",
              "      <td>246.0</td>\n",
              "      <td>Q483145</td>\n",
              "      <td>Q3630191</td>\n",
              "      <td>0.4588</td>\n",
              "      <td>0.690051</td>\n",
              "    </tr>\n",
              "    <tr>\n",
              "      <th>15</th>\n",
              "      <td>249.0</td>\n",
              "      <td>Q188792</td>\n",
              "      <td>Q3014631</td>\n",
              "      <td>-0.0516</td>\n",
              "      <td>0.329950</td>\n",
              "    </tr>\n",
              "    <tr>\n",
              "      <th>16</th>\n",
              "      <td>260.0</td>\n",
              "      <td>Q12848930</td>\n",
              "      <td>Q22686</td>\n",
              "      <td>0.3612</td>\n",
              "      <td>0.625445</td>\n",
              "    </tr>\n",
              "    <tr>\n",
              "      <th>17</th>\n",
              "      <td>263.0</td>\n",
              "      <td>Q22686</td>\n",
              "      <td>Q22686</td>\n",
              "      <td>0.7783</td>\n",
              "      <td>0.882789</td>\n",
              "    </tr>\n",
              "    <tr>\n",
              "      <th>18</th>\n",
              "      <td>268.0</td>\n",
              "      <td>Q1646482</td>\n",
              "      <td>Q15472</td>\n",
              "      <td>-0.6229</td>\n",
              "      <td>0.013519</td>\n",
              "    </tr>\n",
              "    <tr>\n",
              "      <th>19</th>\n",
              "      <td>297.0</td>\n",
              "      <td>Q5980627</td>\n",
              "      <td>Q24706890</td>\n",
              "      <td>0.9241</td>\n",
              "      <td>0.961321</td>\n",
              "    </tr>\n",
              "    <tr>\n",
              "      <th>20</th>\n",
              "      <td>303.0</td>\n",
              "      <td>Q8062264</td>\n",
              "      <td>Q8062264</td>\n",
              "      <td>0.6808</td>\n",
              "      <td>0.827034</td>\n",
              "    </tr>\n",
              "  </tbody>\n",
              "</table>\n",
              "</div>"
            ],
            "text/plain": [
              "    quot_id speaker_id mention_id  compound  distance\n",
              "0      10.0   Q5220272      Q6279    0.0000  0.367879\n",
              "1      68.0   Q4954264  Q43162328    0.8750  0.935507\n",
              "2     101.0   Q7185804   Q5325563    0.8586  0.926743\n",
              "3     103.0  Q58166424   Q5546084   -0.6444  0.009811\n",
              "4     136.0   Q6222401     Q22686   -0.8020  0.000112\n",
              "5     138.0  Q56515295    Q150502    0.0000  0.367879\n",
              "6     148.0    Q979221    Q254820    0.7003  0.838397\n",
              "7     153.0    Q373912   Q6235957   -0.6283  0.012517\n",
              "8     174.0    Q220579    Q677871    0.2023  0.515057\n",
              "9     179.0    Q892014    Q892014   -0.2023  0.221528\n",
              "10    202.0   Q4886348     Q22686   -0.7334  0.001501\n",
              "11    222.0   Q5606248     Q22686    0.6369  0.801058\n",
              "12    226.0    Q439365    Q439365    0.6901  0.832467\n",
              "13    242.0    Q483417    Q817749   -0.3612  0.118734\n",
              "14    246.0    Q483145   Q3630191    0.4588  0.690051\n",
              "15    249.0    Q188792   Q3014631   -0.0516  0.329950\n",
              "16    260.0  Q12848930     Q22686    0.3612  0.625445\n",
              "17    263.0     Q22686     Q22686    0.7783  0.882789\n",
              "18    268.0   Q1646482     Q15472   -0.6229  0.013519\n",
              "19    297.0   Q5980627  Q24706890    0.9241  0.961321\n",
              "20    303.0   Q8062264   Q8062264    0.6808  0.827034"
            ]
          },
          "metadata": {},
          "execution_count": 33
        }
      ]
    },
    {
      "cell_type": "markdown",
      "metadata": {
        "id": "ZFPSYKQ7pa-e"
      },
      "source": [
        "We conclude by plotting the graph using the **networkx** library."
      ],
      "id": "ZFPSYKQ7pa-e"
    },
    {
      "cell_type": "code",
      "metadata": {
        "id": "vXF0HSdRNGFt",
        "colab": {
          "base_uri": "https://localhost:8080/",
          "height": 357
        },
        "outputId": "5c72cb6d-742e-4a0b-c4b1-6b56d529bdc7"
      },
      "source": [
        "import networkx as nx\n",
        "\n",
        "records =graph[['speaker_id','mention_id','distance']].to_records(index=False)\n",
        "result = list(records)\n",
        "FG = nx.Graph()\n",
        "FG.add_weighted_edges_from(result)\n",
        "fig, ax = plt.subplots(1, 1, figsize=(10, 6))\n",
        "nx.draw_networkx(FG, ax=ax, with_labels=FalseS, node_size = 60, arrows=True)"
      ],
      "id": "vXF0HSdRNGFt",
      "execution_count": null,
      "outputs": [
        {
          "output_type": "display_data",
          "data": {
            "image/png": "[encoded data removed]",
            "text/plain": [
              "<Figure size 720x432 with 1 Axes>"
            ]
          },
          "metadata": {}
        }
      ]
    }
  ]
}